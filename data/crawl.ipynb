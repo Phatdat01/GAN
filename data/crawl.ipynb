{
 "cells": [
  {
   "cell_type": "code",
   "execution_count": 1,
   "metadata": {},
   "outputs": [],
   "source": [
    "from selenium import webdriver\n",
    "from selenium.webdriver.common.by import By\n",
    "from webdriver_manager.microsoft import EdgeChromiumDriverManager\n",
    "import time\n",
    "import requests\n",
    "import os\n",
    "import numpy as np"
   ]
  },
  {
   "cell_type": "markdown",
   "metadata": {},
   "source": [
    "# get img link from google"
   ]
  },
  {
   "cell_type": "code",
   "execution_count": 2,
   "metadata": {},
   "outputs": [],
   "source": [
    "def getLinks(url):\n",
    "    links=[]\n",
    "    type_img=[\"jpg\",\"jpeg\",\"png\",\"webp\"]\n",
    "    driver = webdriver.Edge(EdgeChromiumDriverManager().install())\n",
    "    driver.set_window_size(480, 320)\n",
    "    driver.get(url)\n",
    "    tinyIMGs=driver.find_elements(by=By.CLASS_NAME,value=\"mJxzWe\")\n",
    "    for img in tinyIMGs:\n",
    "        lstimg=img.find_elements(by=By.CLASS_NAME,value=\"wXeWr.islib.nfEiy\")\n",
    "        for tag in lstimg:\n",
    "            try:\n",
    "                tag.click()\n",
    "                time.sleep(5)\n",
    "                imgSources=driver.find_elements(by=By.CLASS_NAME,value='eHAdSb')\n",
    "                for imgSource in imgSources:\n",
    "                    imgpath=imgSource.find_element(by=By.TAG_NAME,value=\"img\").get_attribute(\"src\")\n",
    "                    if(imgpath[-3:] in type_img or imgpath[-4:] in type_img):\n",
    "                        links.append(imgpath)\n",
    "            except:\n",
    "                pass\n",
    "        # if len(links)==50:\n",
    "        #     return links\n",
    "    driver.close()\n",
    "    return links"
   ]
  },
  {
   "cell_type": "markdown",
   "metadata": {},
   "source": [
    "# Download img file"
   ]
  },
  {
   "cell_type": "code",
   "execution_count": 3,
   "metadata": {},
   "outputs": [],
   "source": [
    "def listFile(dir):\n",
    "    lstfile=[f for f in os.listdir(dir) if os.path.isfile(os.path.join(dir,f))]\n",
    "    return lstfile\n",
    "\n",
    "## download file\n",
    "def downLoadFile(links,dir):\n",
    "    for path in links:\n",
    "        lstfile=listFile(dir)\n",
    "        request_url = requests.get(path)\n",
    "        img=request_url.content\n",
    "        with open(f'{dir}/{dir}_{len(lstfile)+1}.jpg', mode='bw') as f:\n",
    "            f.write(img)\n",
    "      #  time.sleep(1)"
   ]
  },
  {
   "cell_type": "markdown",
   "metadata": {},
   "source": [
    "# Update file name"
   ]
  },
  {
   "cell_type": "code",
   "execution_count": 4,
   "metadata": {},
   "outputs": [],
   "source": [
    "def ProNameFile(dir):\n",
    "    lst = listFile(dir)\n",
    "    #check name\n",
    "    diff=(len(lst))\n",
    "    for name in lst:\n",
    "        \n",
    "        if(name[:len(dir)]!=dir or name[-3:]!=\"jpg\"):\n",
    "            old_name = f\"{dir}/{name}\"\n",
    "            new_name = f\"{dir}/{dir}_{len(lst)+diff}.jpg\"\n",
    "            os.rename(old_name, new_name)\n",
    "            diff+=1\n",
    "\n",
    "    lst=listFile(dir)\n",
    "    lstNum=np.array(lst)\n",
    "    lstNum=[int(x[len(dir)+1:-4]) for x in lstNum]\n",
    "    lstNum.sort()\n",
    "    i=1\n",
    "    ### Check id\n",
    "    while(i<=len(lst)):\n",
    "        if (i not in lstNum):\n",
    "            old_name = f\"{dir}/{dir}_{lstNum[-1]}.jpg\"\n",
    "            new_name = f\"{dir}/{dir}_{i}.jpg\"\n",
    "            os.rename(old_name, new_name)\n",
    "            lstNum=lstNum[:-1]\n",
    "        i+=1"
   ]
  },
  {
   "cell_type": "markdown",
   "metadata": {},
   "source": [
    "# Run Multi Crawl"
   ]
  },
  {
   "cell_type": "code",
   "execution_count": 5,
   "metadata": {},
   "outputs": [
    {
     "ename": "FileNotFoundError",
     "evalue": "[WinError 3] The system cannot find the path specified: 'xoài'",
     "output_type": "error",
     "traceback": [
      "\u001b[1;31m---------------------------------------------------------------------------\u001b[0m",
      "\u001b[1;31mFileNotFoundError\u001b[0m                         Traceback (most recent call last)",
      "Cell \u001b[1;32mIn [5], line 25\u001b[0m\n\u001b[0;32m     21\u001b[0m url15\u001b[38;5;241m=\u001b[39m\u001b[38;5;124m\"\u001b[39m\u001b[38;5;124m\"\u001b[39m\n\u001b[0;32m     23\u001b[0m linkAll\u001b[38;5;241m=\u001b[39m[]\n\u001b[1;32m---> 25\u001b[0m \u001b[38;5;28mprint\u001b[39m(\u001b[38;5;124mf\u001b[39m\u001b[38;5;124m\"\u001b[39m\u001b[38;5;124mbegin processing: \u001b[39m\u001b[38;5;132;01m{\u001b[39;00m\u001b[38;5;28mlen\u001b[39m(listFile(\u001b[38;5;28mdir\u001b[39m))\u001b[38;5;132;01m}\u001b[39;00m\u001b[38;5;124m\"\u001b[39m)\n\u001b[0;32m     26\u001b[0m \u001b[38;5;66;03m#########\u001b[39;00m\n\u001b[0;32m     27\u001b[0m \u001b[38;5;28;01mdef\u001b[39;00m \u001b[38;5;21mmutiAction\u001b[39m(url):\n",
      "Cell \u001b[1;32mIn [3], line 2\u001b[0m, in \u001b[0;36mlistFile\u001b[1;34m(dir)\u001b[0m\n\u001b[0;32m      1\u001b[0m \u001b[38;5;28;01mdef\u001b[39;00m \u001b[38;5;21mlistFile\u001b[39m(\u001b[38;5;28mdir\u001b[39m):\n\u001b[1;32m----> 2\u001b[0m     lstfile\u001b[38;5;241m=\u001b[39m[f \u001b[38;5;28;01mfor\u001b[39;00m f \u001b[38;5;129;01min\u001b[39;00m \u001b[43mos\u001b[49m\u001b[38;5;241;43m.\u001b[39;49m\u001b[43mlistdir\u001b[49m\u001b[43m(\u001b[49m\u001b[38;5;28;43mdir\u001b[39;49m\u001b[43m)\u001b[49m \u001b[38;5;28;01mif\u001b[39;00m os\u001b[38;5;241m.\u001b[39mpath\u001b[38;5;241m.\u001b[39misfile(os\u001b[38;5;241m.\u001b[39mpath\u001b[38;5;241m.\u001b[39mjoin(\u001b[38;5;28mdir\u001b[39m,f))]\n\u001b[0;32m      3\u001b[0m     \u001b[38;5;28;01mreturn\u001b[39;00m lstfile\n",
      "\u001b[1;31mFileNotFoundError\u001b[0m: [WinError 3] The system cannot find the path specified: 'xoài'"
     ]
    }
   ],
   "source": [
    "from concurrent.futures import ThreadPoolExecutor\n",
    "\n",
    "dir=\"xoài\"\n",
    "\n",
    "url1=\"https://tinyurl.com/5bncfkhz\"\n",
    "url2=\"https://tinyurl.com/4jzy526w\"\n",
    "url3=\"https://tinyurl.com/ywe6bju2\"\n",
    "url4=\"https://tinyurl.com/5ah3udtf\"\n",
    "url5=\"\"\n",
    "\n",
    "url6=\"\"\n",
    "url7=\"\"\n",
    "url8=\"\"\n",
    "url9=\"\"\n",
    "url10=\"\"\n",
    "\n",
    "url11=\"\"\n",
    "url12=\"\"\n",
    "url13=\"\"\n",
    "url14=\"\"\n",
    "url15=\"\"\n",
    "\n",
    "linkAll=[]\n",
    "\n",
    "print(f\"begin processing: {len(listFile(dir))}\")\n",
    "#########\n",
    "def mutiAction(url):\n",
    "    links=getLinks(url)\n",
    "    linkAll.append(links)\n",
    "    print(f\" file: {len(links)}\")\n",
    "    # downLoadFile(links,dir)\n",
    "    return\n",
    "\n",
    "######\n",
    "ProNameFile(dir)\n",
    "executor = ThreadPoolExecutor(max_workers=5)\n",
    "aa = executor.submit(mutiAction,url1)\n",
    "ba = executor.submit(mutiAction,url2)\n",
    "ca = executor.submit(mutiAction,url3)\n",
    "da = executor.submit(mutiAction,url4)\n",
    "# ea = executor.submit(mutiAction,url5)\n",
    "# fa = executor.submit(mutiAction,url6)\n",
    "# ga = executor.submit(mutiAction,url7)\n",
    "# ha = executor.submit(mutiAction,url8)\n",
    "# ia = executor.submit(mutiAction,url9)\n",
    "# ja = executor.submit(mutiAction,url10)\n",
    "# ka = executor.submit(mutiAction,url11)\n",
    "# la = executor.submit(mutiAction,url12)\n",
    "# ma = executor.submit(mutiAction,url13)\n",
    "# na = executor.submit(mutiAction,url14)\n",
    "# oa = executor.submit(mutiAction,url15)\n",
    "time.sleep(5)"
   ]
  },
  {
   "cell_type": "code",
   "execution_count": 14,
   "metadata": {},
   "outputs": [],
   "source": [
    "temp=linkAll[9:]"
   ]
  },
  {
   "cell_type": "code",
   "execution_count": null,
   "metadata": {},
   "outputs": [],
   "source": [
    "print(f\"##########\\nbegin processing: {len(listFile(dir))}\")\n",
    "total=0\n",
    "for i in temp:\n",
    "    print(f\"list link {temp.index(i)+1}\")\n",
    "    total+=len(i)\n",
    "    downLoadFile(i,dir)\n",
    "time.sleep(5)\n",
    "ProNameFile(dir)\n",
    "print(f\"after processing: {len(listFile(dir))}\")\n",
    "print(f\"num file: {total}\")"
   ]
  },
  {
   "cell_type": "code",
   "execution_count": null,
   "metadata": {},
   "outputs": [],
   "source": [
    "print(f\"##########\\nbegin processing: {len(listFile(dir))}\")\n",
    "total=0\n",
    "for i in linkAll:\n",
    "    print(f\"list link {linkAll.index(i)+1}\")\n",
    "    total+=len(i)\n",
    "    downLoadFile(i,dir)\n",
    "time.sleep(5)\n",
    "ProNameFile(dir)\n",
    "print(f\"after processing: {len(listFile(dir))}\")\n",
    "print(f\"num file: {total}\")"
   ]
  },
  {
   "cell_type": "code",
   "execution_count": null,
   "metadata": {},
   "outputs": [],
   "source": [
    "\n",
    "\n",
    "\n",
    "\n",
    "##################\n",
    "\n",
    "# url1=\"\"\n",
    "# url2=\"\"\n",
    "# url3=\"\"\n",
    "# url4=\"\"\n",
    "# url5=\"\"\n",
    "\n",
    "# url6=\"\"\n",
    "# url7=\"\"\n",
    "# url8=\"\"\n",
    "# url9=\"\"\n",
    "# url10=\"\"\n",
    "\n",
    "# url11=\"\"\n",
    "# url12=\"\"\n",
    "# url13=\"\"\n",
    "# url14=\"\"\n",
    "# url15=\"\""
   ]
  },
  {
   "cell_type": "code",
   "execution_count": null,
   "metadata": {},
   "outputs": [],
   "source": [
    "### Tensorflow only accept jpg file and png file, all file bmp, gif jpeg and orther will not be accept\n",
    "from pathlib import Path\n",
    "import imghdr\n",
    "from PIL import Image\n",
    "\n",
    "image_extensions = [\".jpg\"]  # add there all your images file extensions\n",
    "\n",
    "img_type_accepted_by_tf = [\"bmp\", \"gif\", \"jpeg\", \"png\"]\n",
    "\n",
    "def edit(data_dir):\n",
    "  num=0\n",
    "  lstfile=Path(data_dir).rglob(\"*\")\n",
    "  for file in lstfile:\n",
    "    if file.suffix.lower() in image_extensions:\n",
    "        img_type = imghdr.what(file)\n",
    "        # print(img_type)\n",
    "        # if img_type not in img_type_accepted_by_tf:\n",
    "        if img_type !=\"jpeg\":\n",
    "          filename=str(file)\n",
    "          print(filename)\n",
    "          im = Image.open(filename).convert(\"RGB\")\n",
    "          im.save(filename,\"jpeg\")\n",
    "          num+=1\n",
    "  return num\n",
    "\n",
    "dir = \"Tao\"\n",
    "numfiledit=edit(dir)\n",
    "print(numfiledit)\n",
    "print(\"##############\\nafter edit\")\n",
    "numfiledit=edit(dir)\n",
    "print(numfiledit)"
   ]
  },
  {
   "cell_type": "markdown",
   "metadata": {},
   "source": [
    "# Rename"
   ]
  },
  {
   "cell_type": "code",
   "execution_count": 15,
   "metadata": {},
   "outputs": [],
   "source": [
    "dir=\"midoriya\"\n",
    "ProNameFile(dir)"
   ]
  },
  {
   "cell_type": "markdown",
   "metadata": {},
   "source": [
    "# Normal"
   ]
  },
  {
   "cell_type": "code",
   "execution_count": null,
   "metadata": {},
   "outputs": [],
   "source": [
    "dir=\"\"\n",
    "lsturl=[\n",
    "\"\"\n",
    "]\n",
    "linkAll=[]\n",
    "total=0\n",
    "for url in lsturl:\n",
    "    print(f\"########################################\\ntime: {lsturl.index(url)+1}\")\n",
    "    print(f\"begin processing: {len(listFile(dir))+1}\")\n",
    "    #########\n",
    "    ProNameFile(dir)\n",
    "    links=getLinks(url)\n",
    "    linkAll.append(links)\n",
    "    print(f\" file: {len(links)}\")\n",
    "    # time.sleep(5)\n",
    "    #downLoadFile(links,dir)\n",
    "    ProNameFile(dir)\n",
    "    ######\n",
    "    print(f\"after processing: {len(listFile(dir))}\")\n",
    "\n",
    "for i in linkAll:\n",
    "    total+=len(i)\n",
    "print(\"num file: {total}\")"
   ]
  }
 ],
 "metadata": {
  "kernelspec": {
   "display_name": "Python 3.9.0 64-bit",
   "language": "python",
   "name": "python3"
  },
  "language_info": {
   "codemirror_mode": {
    "name": "ipython",
    "version": 3
   },
   "file_extension": ".py",
   "mimetype": "text/x-python",
   "name": "python",
   "nbconvert_exporter": "python",
   "pygments_lexer": "ipython3",
   "version": "3.9.0"
  },
  "orig_nbformat": 4,
  "vscode": {
   "interpreter": {
    "hash": "2469a70536e4d2335a2ea8907942d0699c37342a371ac185bdb5b0aa6f073890"
   }
  }
 },
 "nbformat": 4,
 "nbformat_minor": 2
}
